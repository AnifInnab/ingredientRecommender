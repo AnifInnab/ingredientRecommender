{
 "cells": [
  {
   "cell_type": "code",
   "execution_count": 353,
   "metadata": {},
   "outputs": [],
   "source": [
    "import pandas as pd\n",
    "import numpy as np\n",
    "import random\n",
    "from sklearn.model_selection import train_test_split\n",
    "#import keras\n",
    "from keras.utils import to_categorical\n",
    "from keras.models import Sequential\n",
    "from keras.layers import Dense, Activation, Embedding, Flatten\n",
    "from keras.preprocessing.sequence import pad_sequences\n",
    "import ast\n",
    "import tensorflow as tf\n",
    "from functools import reduce\n",
    "import pickle\n",
    "from tqdm import tqdm_notebook as tqdm"
   ]
  },
  {
   "cell_type": "code",
   "execution_count": 362,
   "metadata": {},
   "outputs": [
    {
     "data": {
      "application/vnd.jupyter.widget-view+json": {
       "model_id": "930cc11fdea744d78c06477237f54394",
       "version_major": 2,
       "version_minor": 0
      },
      "text/plain": [
       "HBox(children=(IntProgress(value=1, bar_style='info', max=1), HTML(value='')))"
      ]
     },
     "metadata": {},
     "output_type": "display_data"
    },
    {
     "name": "stdout",
     "output_type": "stream",
     "text": [
      "\n"
     ]
    }
   ],
   "source": [
    "#Read files\n",
    "recipes_path = 'data/RAW_recipes.csv'\n",
    "orig_recipes = pd.read_csv(recipes_path)\n",
    "orig_recipes = orig_recipes['ingredients']\n",
    "orig_recipes = list(orig_recipes.apply(ast.literal_eval))\n",
    "\n",
    "#get all ingredients from recipes and create new ingredients list\n",
    "ingredients = []\n",
    "for recipe in orig_recipes:\n",
    "    ingredients += recipe\n",
    "ingredients_set = set(ingredients)\n",
    "ingredients = list(ingredients_set)\n",
    "ingredients_dict = {ingr:i for i,ingr in tqdm(enumerate(ingredients))}\n",
    "\n",
    "\n"
   ]
  },
  {
   "cell_type": "code",
   "execution_count": 361,
   "metadata": {},
   "outputs": [
    {
     "data": {
      "application/vnd.jupyter.widget-view+json": {
       "model_id": "dfab55e4bab243f48f8b0b9813dc3489",
       "version_major": 2,
       "version_minor": 0
      },
      "text/plain": [
       "HBox(children=(IntProgress(value=1, bar_style='info', max=1), HTML(value='')))"
      ]
     },
     "metadata": {},
     "output_type": "display_data"
    },
    {
     "name": "stdout",
     "output_type": "stream",
     "text": [
      "\n"
     ]
    },
    {
     "data": {
      "text/plain": [
       "2625"
      ]
     },
     "execution_count": 361,
     "metadata": {},
     "output_type": "execute_result"
    }
   ],
   "source": []
  },
  {
   "cell_type": "code",
   "execution_count": 319,
   "metadata": {},
   "outputs": [
    {
     "data": {
      "text/plain": [
       "78"
      ]
     },
     "execution_count": 319,
     "metadata": {},
     "output_type": "execute_result"
    }
   ],
   "source": [
    "# f = open('ingredients.pkl', 'w')\n",
    "# pickle.dump(ingredients, f)\n",
    "# f.close()\n",
    "\n",
    "# f = open('ingredients_set.pkl', 'w')\n",
    "# pickle.dump(ingredients_set, f)\n",
    "# f.close()"
   ]
  },
  {
   "cell_type": "code",
   "execution_count": 371,
   "metadata": {},
   "outputs": [
    {
     "data": {
      "application/vnd.jupyter.widget-view+json": {
       "model_id": "4c69b411aece4a54936016547cf71889",
       "version_major": 2,
       "version_minor": 0
      },
      "text/plain": [
       "HBox(children=(IntProgress(value=0, max=231637), HTML(value='')))"
      ]
     },
     "metadata": {},
     "output_type": "display_data"
    },
    {
     "name": "stdout",
     "output_type": "stream",
     "text": [
      "\n",
      "(231637, 42)\n",
      "(231637, 14942)\n"
     ]
    }
   ],
   "source": [
    "def recipe_to_idx(recipe):\n",
    "    return list(map(lambda x : ingredients_dict[x], recipe))\n",
    "\n",
    "def idx_to_recipe(idx_list):\n",
    "    return [ingredients[i] for i in idx_list]\n",
    "\n",
    "def filter_recipes(recipes):\n",
    "    \"\"\"\n",
    "    removes recipe if ingredients in recipe is not in our ingredients list\n",
    "    \"\"\"\n",
    "    filtered_recipes = []\n",
    "    for i, recipe in enumerate(recipes):\n",
    "        found = True\n",
    "        for word in recipe:\n",
    "            if word not in ingredients_set:\n",
    "                found = False\n",
    "                break\n",
    "        if found and len(recipe) > 0:\n",
    "            filtered_recipes.append(recipe)\n",
    "    return filtered_recipes\n",
    "\n",
    "def create_labels(recipes_indices):\n",
    "    \"\"\"\n",
    "    creates a list of labels, where each label is an index pointing to some ingredient in the ingredients list\n",
    "    \"\"\"\n",
    "    y_indices = []\n",
    "    for recipe in recipes_indices:\n",
    "        label_pos = random.randint(0, len(recipe) - 1)\n",
    "        y_indices.append(recipe[label_pos])\n",
    "        recipe.pop(label_pos)\n",
    "    return y_indices\n",
    "\n",
    "def pad_X(recipes_indices):\n",
    "    \"\"\"\n",
    "    Pads the index lists so that they all have the same size\n",
    "    \"\"\"\n",
    "    longest_recipe_size = max([len(recipe) for recipe in recipes_indices])\n",
    "    X = pad_sequences(recipes_indices, maxlen=longest_recipe_size, padding='post')\n",
    "    return X\n",
    "\n",
    "def create_onehots(y_indices):\n",
    "    \"\"\"\n",
    "    create one hot vectors for the labels\n",
    "    \"\"\"\n",
    "    no_examples = len(y_indices)\n",
    "    no_classes = len(ingredients)\n",
    "    y = np.empty([no_examples, no_classes])\n",
    "    for i, hot_idx in enumerate(y_indices):\n",
    "        y_onehot = np.zeros(no_classes)\n",
    "        y_onehot[hot_idx] = 1.0\n",
    "        y[i] = y_onehot\n",
    "    return y\n",
    "    \n",
    "#print(len(orig_recipes))\n",
    "#recipes = filter_recipes(orig_recipes)\n",
    "#print(len(recipes))    \n",
    "\n",
    "recipes_indices = list(map(recipe_to_idx, tqdm(orig_recipes)))\n",
    "\n",
    "y_indices = create_labels(recipes_indices)\n",
    "\n",
    "# print('3')\n",
    "X = pad_X(recipes_indices)\n",
    "\n",
    "y = create_onehots(y_indices)\n",
    "print(X.shape)\n",
    "print(y.shape)"
   ]
  },
  {
   "cell_type": "code",
   "execution_count": 377,
   "metadata": {},
   "outputs": [
    {
     "name": "stdout",
     "output_type": "stream",
     "text": [
      "42\n",
      "Model: \"sequential_17\"\n",
      "_________________________________________________________________\n",
      "Layer (type)                 Output Shape              Param #   \n",
      "=================================================================\n",
      "embedding_17 (Embedding)     (None, 42, 100)           1494200   \n",
      "_________________________________________________________________\n",
      "flatten_17 (Flatten)         (None, 4200)              0         \n",
      "_________________________________________________________________\n",
      "dense_17 (Dense)             (None, 14942)             62771342  \n",
      "=================================================================\n",
      "Total params: 64,265,542\n",
      "Trainable params: 64,265,542\n",
      "Non-trainable params: 0\n",
      "_________________________________________________________________\n",
      "None\n",
      "Train on 155196 samples, validate on 76441 samples\n",
      "Epoch 1/5\n"
     ]
    },
    {
     "ename": "KeyboardInterrupt",
     "evalue": "",
     "output_type": "error",
     "traceback": [
      "\u001b[0;31m---------------------------------------------------------------------------\u001b[0m",
      "\u001b[0;31mKeyboardInterrupt\u001b[0m                         Traceback (most recent call last)",
      "\u001b[0;32m<ipython-input-377-5faacdf6b51f>\u001b[0m in \u001b[0;36m<module>\u001b[0;34m\u001b[0m\n\u001b[1;32m     20\u001b[0m \u001b[0mmodel\u001b[0m \u001b[0;34m=\u001b[0m \u001b[0mget_compiled_model\u001b[0m\u001b[0;34m(\u001b[0m\u001b[0;34m)\u001b[0m\u001b[0;34m\u001b[0m\u001b[0;34m\u001b[0m\u001b[0m\n\u001b[1;32m     21\u001b[0m \u001b[0mprint\u001b[0m\u001b[0;34m(\u001b[0m\u001b[0mmodel\u001b[0m\u001b[0;34m.\u001b[0m\u001b[0msummary\u001b[0m\u001b[0;34m(\u001b[0m\u001b[0;34m)\u001b[0m\u001b[0;34m)\u001b[0m\u001b[0;34m\u001b[0m\u001b[0;34m\u001b[0m\u001b[0m\n\u001b[0;32m---> 22\u001b[0;31m \u001b[0mmodel\u001b[0m\u001b[0;34m.\u001b[0m\u001b[0mfit\u001b[0m\u001b[0;34m(\u001b[0m\u001b[0mx\u001b[0m\u001b[0;34m=\u001b[0m\u001b[0mX\u001b[0m\u001b[0;34m,\u001b[0m \u001b[0my\u001b[0m\u001b[0;34m=\u001b[0m\u001b[0my\u001b[0m\u001b[0;34m,\u001b[0m \u001b[0mvalidation_split\u001b[0m\u001b[0;34m=\u001b[0m\u001b[0;36m0.33\u001b[0m\u001b[0;34m,\u001b[0m \u001b[0mepochs\u001b[0m\u001b[0;34m=\u001b[0m\u001b[0;36m5\u001b[0m\u001b[0;34m,\u001b[0m \u001b[0mbatch_size\u001b[0m\u001b[0;34m=\u001b[0m\u001b[0;36m8192\u001b[0m\u001b[0;34m*\u001b[0m\u001b[0;36m2\u001b[0m\u001b[0;34m)\u001b[0m\u001b[0;34m\u001b[0m\u001b[0;34m\u001b[0m\u001b[0m\n\u001b[0m",
      "\u001b[0;32m~/miniconda3/envs/kaggleenv/lib/python3.7/site-packages/keras/engine/training.py\u001b[0m in \u001b[0;36mfit\u001b[0;34m(self, x, y, batch_size, epochs, verbose, callbacks, validation_split, validation_data, shuffle, class_weight, sample_weight, initial_epoch, steps_per_epoch, validation_steps, validation_freq, max_queue_size, workers, use_multiprocessing, **kwargs)\u001b[0m\n\u001b[1;32m   1237\u001b[0m                                         \u001b[0msteps_per_epoch\u001b[0m\u001b[0;34m=\u001b[0m\u001b[0msteps_per_epoch\u001b[0m\u001b[0;34m,\u001b[0m\u001b[0;34m\u001b[0m\u001b[0;34m\u001b[0m\u001b[0m\n\u001b[1;32m   1238\u001b[0m                                         \u001b[0mvalidation_steps\u001b[0m\u001b[0;34m=\u001b[0m\u001b[0mvalidation_steps\u001b[0m\u001b[0;34m,\u001b[0m\u001b[0;34m\u001b[0m\u001b[0;34m\u001b[0m\u001b[0m\n\u001b[0;32m-> 1239\u001b[0;31m                                         validation_freq=validation_freq)\n\u001b[0m\u001b[1;32m   1240\u001b[0m \u001b[0;34m\u001b[0m\u001b[0m\n\u001b[1;32m   1241\u001b[0m     def evaluate(self,\n",
      "\u001b[0;32m~/miniconda3/envs/kaggleenv/lib/python3.7/site-packages/keras/engine/training_arrays.py\u001b[0m in \u001b[0;36mfit_loop\u001b[0;34m(model, fit_function, fit_inputs, out_labels, batch_size, epochs, verbose, callbacks, val_function, val_inputs, shuffle, initial_epoch, steps_per_epoch, validation_steps, validation_freq)\u001b[0m\n\u001b[1;32m    194\u001b[0m                     \u001b[0mins_batch\u001b[0m\u001b[0;34m[\u001b[0m\u001b[0mi\u001b[0m\u001b[0;34m]\u001b[0m \u001b[0;34m=\u001b[0m \u001b[0mins_batch\u001b[0m\u001b[0;34m[\u001b[0m\u001b[0mi\u001b[0m\u001b[0;34m]\u001b[0m\u001b[0;34m.\u001b[0m\u001b[0mtoarray\u001b[0m\u001b[0;34m(\u001b[0m\u001b[0;34m)\u001b[0m\u001b[0;34m\u001b[0m\u001b[0;34m\u001b[0m\u001b[0m\n\u001b[1;32m    195\u001b[0m \u001b[0;34m\u001b[0m\u001b[0m\n\u001b[0;32m--> 196\u001b[0;31m                 \u001b[0mouts\u001b[0m \u001b[0;34m=\u001b[0m \u001b[0mfit_function\u001b[0m\u001b[0;34m(\u001b[0m\u001b[0mins_batch\u001b[0m\u001b[0;34m)\u001b[0m\u001b[0;34m\u001b[0m\u001b[0;34m\u001b[0m\u001b[0m\n\u001b[0m\u001b[1;32m    197\u001b[0m                 \u001b[0mouts\u001b[0m \u001b[0;34m=\u001b[0m \u001b[0mto_list\u001b[0m\u001b[0;34m(\u001b[0m\u001b[0mouts\u001b[0m\u001b[0;34m)\u001b[0m\u001b[0;34m\u001b[0m\u001b[0;34m\u001b[0m\u001b[0m\n\u001b[1;32m    198\u001b[0m                 \u001b[0;32mfor\u001b[0m \u001b[0ml\u001b[0m\u001b[0;34m,\u001b[0m \u001b[0mo\u001b[0m \u001b[0;32min\u001b[0m \u001b[0mzip\u001b[0m\u001b[0;34m(\u001b[0m\u001b[0mout_labels\u001b[0m\u001b[0;34m,\u001b[0m \u001b[0mouts\u001b[0m\u001b[0;34m)\u001b[0m\u001b[0;34m:\u001b[0m\u001b[0;34m\u001b[0m\u001b[0;34m\u001b[0m\u001b[0m\n",
      "\u001b[0;32m~/miniconda3/envs/kaggleenv/lib/python3.7/site-packages/tensorflow_core/python/keras/backend.py\u001b[0m in \u001b[0;36m__call__\u001b[0;34m(self, inputs)\u001b[0m\n\u001b[1;32m   3474\u001b[0m \u001b[0;34m\u001b[0m\u001b[0m\n\u001b[1;32m   3475\u001b[0m     fetched = self._callable_fn(*array_vals,\n\u001b[0;32m-> 3476\u001b[0;31m                                 run_metadata=self.run_metadata)\n\u001b[0m\u001b[1;32m   3477\u001b[0m     \u001b[0mself\u001b[0m\u001b[0;34m.\u001b[0m\u001b[0m_call_fetch_callbacks\u001b[0m\u001b[0;34m(\u001b[0m\u001b[0mfetched\u001b[0m\u001b[0;34m[\u001b[0m\u001b[0;34m-\u001b[0m\u001b[0mlen\u001b[0m\u001b[0;34m(\u001b[0m\u001b[0mself\u001b[0m\u001b[0;34m.\u001b[0m\u001b[0m_fetches\u001b[0m\u001b[0;34m)\u001b[0m\u001b[0;34m:\u001b[0m\u001b[0;34m]\u001b[0m\u001b[0;34m)\u001b[0m\u001b[0;34m\u001b[0m\u001b[0;34m\u001b[0m\u001b[0m\n\u001b[1;32m   3478\u001b[0m     output_structure = nest.pack_sequence_as(\n",
      "\u001b[0;32m~/miniconda3/envs/kaggleenv/lib/python3.7/site-packages/tensorflow_core/python/client/session.py\u001b[0m in \u001b[0;36m__call__\u001b[0;34m(self, *args, **kwargs)\u001b[0m\n\u001b[1;32m   1470\u001b[0m         ret = tf_session.TF_SessionRunCallable(self._session._session,\n\u001b[1;32m   1471\u001b[0m                                                \u001b[0mself\u001b[0m\u001b[0;34m.\u001b[0m\u001b[0m_handle\u001b[0m\u001b[0;34m,\u001b[0m \u001b[0margs\u001b[0m\u001b[0;34m,\u001b[0m\u001b[0;34m\u001b[0m\u001b[0;34m\u001b[0m\u001b[0m\n\u001b[0;32m-> 1472\u001b[0;31m                                                run_metadata_ptr)\n\u001b[0m\u001b[1;32m   1473\u001b[0m         \u001b[0;32mif\u001b[0m \u001b[0mrun_metadata\u001b[0m\u001b[0;34m:\u001b[0m\u001b[0;34m\u001b[0m\u001b[0;34m\u001b[0m\u001b[0m\n\u001b[1;32m   1474\u001b[0m           \u001b[0mproto_data\u001b[0m \u001b[0;34m=\u001b[0m \u001b[0mtf_session\u001b[0m\u001b[0;34m.\u001b[0m\u001b[0mTF_GetBuffer\u001b[0m\u001b[0;34m(\u001b[0m\u001b[0mrun_metadata_ptr\u001b[0m\u001b[0;34m)\u001b[0m\u001b[0;34m\u001b[0m\u001b[0;34m\u001b[0m\u001b[0m\n",
      "\u001b[0;31mKeyboardInterrupt\u001b[0m: "
     ]
    }
   ],
   "source": [
    "#Train Neural network\n",
    "print(X.shape[1])\n",
    "no_classes = len(ingredients)\n",
    "input_length = X.shape[1]\n",
    "def get_compiled_model():\n",
    "    #model using embeddings\n",
    "    model = Sequential([\n",
    "            Embedding(input_dim=no_classes,\n",
    "                    output_dim=100, \n",
    "                    input_length=input_length),\n",
    "            Flatten(),\n",
    "            Dense(no_classes, activation='softmax')\n",
    "        ])\n",
    "    model.compile(optimizer='adam',\n",
    "              loss='categorical_crossentropy',\n",
    "              metrics=['accuracy'])\n",
    "\n",
    "    return model\n",
    "\n",
    "model = get_compiled_model()\n",
    "print(model.summary())\n",
    "model.fit(x=X, y=y, validation_split=0.33, epochs=5, batch_size=8192*2)"
   ]
  },
  {
   "cell_type": "code",
   "execution_count": 33,
   "metadata": {},
   "outputs": [
    {
     "data": {
      "text/plain": [
       "array([6.2584877e-07, 6.2584877e-07, 6.8545341e-07, ..., 6.2584877e-07,\n",
       "       6.2584877e-07, 6.2584877e-07], dtype=float32)"
      ]
     },
     "execution_count": 33,
     "metadata": {},
     "output_type": "execute_result"
    }
   ],
   "source": [
    "predictions = model.predict(X_test)"
   ]
  },
  {
   "cell_type": "code",
   "execution_count": 309,
   "metadata": {},
   "outputs": [
    {
     "name": "stdout",
     "output_type": "stream",
     "text": [
      "[('beer', 0.012032799), ('sour cream', 0.011091416), ('green grape', 0.010717132), ('brown sugar', 0.01036949), ('cinnamon', 0.009476901), ('vodka', 0.008648412), ('tequila', 0.008561748), ('banana', 0.007880853), ('sugar', 0.007564536), ('milk', 0.007272173)]\n"
     ]
    }
   ],
   "source": [
    "def predict_ingredients(recipe, k):\n",
    "    \"\"\"\n",
    "    returns k best suggestions in text\n",
    "    \"\"\"\n",
    "    \n",
    "    #convert word recipe to neural network input format\n",
    "    indices = recipe_to_idx(recipe)\n",
    "    \n",
    "    longest_recipe_size = max([len(recipe) for recipe in recipes_indices])\n",
    "    #pad sequences only take list as argument, thus we have to pick the first element whne we only \n",
    "    #want to predict one element\n",
    "    X = pad_sequences([indices], maxlen=longest_recipe_size, padding='post')\n",
    "    \n",
    "    #predict\n",
    "    suggested_ingr = model.predict(X)[0]\n",
    "    scores = np.sort(suggested_ingr)[::-1][:k]\n",
    "    \n",
    "    #get k \"best\" ingredients\n",
    "    k = min(k, len(suggested_ingr))\n",
    "    best_ingr_idx_list = suggested_ingr.argsort()[-k:][::-1]\n",
    "    \n",
    "    #convert neural network format to word recipe\n",
    "    return list(zip(idx_to_recipe(best_ingr_idx_list), scores))\n",
    "  \n",
    "\n",
    "\n",
    "\n",
    "#pizza_recipe = ['pizza crust', 'sausage', 'egg', 'milk', 'salt and pepper', 'cheese']\n",
    "pizza_recipe = ['lettuce']\n",
    "#pizza_recipe = ['soft silken tofu', 'avocado', 'chunky salsa', 'fresh cilantro', 'lime juice', 'hot sauce', 'salt and pepper']\n",
    "#our_recipe = ['pasta', 'tomato']\n",
    "print(predict_ingredients(pizza_recipe, 10))"
   ]
  }
 ],
 "metadata": {
  "kernelspec": {
   "display_name": "Python 3",
   "language": "python",
   "name": "python3"
  },
  "language_info": {
   "codemirror_mode": {
    "name": "ipython",
    "version": 3
   },
   "file_extension": ".py",
   "mimetype": "text/x-python",
   "name": "python",
   "nbconvert_exporter": "python",
   "pygments_lexer": "ipython3",
   "version": "3.7.4"
  }
 },
 "nbformat": 4,
 "nbformat_minor": 2
}
